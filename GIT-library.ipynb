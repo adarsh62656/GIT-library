{
 "cells": [
  {
   "cell_type": "code",
   "execution_count": 81,
   "id": "cb6b83b4",
   "metadata": {},
   "outputs": [],
   "source": [
    "import subprocess"
   ]
  },
  {
   "cell_type": "code",
   "execution_count": 82,
   "id": "aa2503b2",
   "metadata": {},
   "outputs": [
    {
     "name": "stdout",
     "output_type": "stream",
     "text": [
      "C:\\Users\\VC\\Desktop\\1\r\n",
      "\n"
     ]
    }
   ],
   "source": [
    "print(subprocess.check_output(['echo' ,'%cd%'],shell=True).decode('utf-8'))"
   ]
  },
  {
   "cell_type": "markdown",
   "id": "3b18cb1a",
   "metadata": {},
   "source": [
    "## Git Clone"
   ]
  },
  {
   "cell_type": "code",
   "execution_count": 116,
   "id": "a065c5af",
   "metadata": {},
   "outputs": [],
   "source": [
    "def clone(path):\n",
    "    x=subprocess.Popen(['git','clone',path], stdout=subprocess.PIPE, stderr=subprocess.PIPE)\n",
    "    stdout, stderr = x.communicate()\n",
    "    print(stdout.decode('utf-8'), stderr.decode('utf-8'))"
   ]
  },
  {
   "cell_type": "code",
   "execution_count": 117,
   "id": "8b644d33",
   "metadata": {},
   "outputs": [
    {
     "name": "stdout",
     "output_type": "stream",
     "text": [
      " Cloning into 'PHPapp'...\n",
      "\n"
     ]
    }
   ],
   "source": [
    "clone(\"https://github.com/adarsh62656/PHPapp.git\")"
   ]
  },
  {
   "cell_type": "markdown",
   "id": "f1a7bc69",
   "metadata": {},
   "source": [
    "## Git Add"
   ]
  },
  {
   "cell_type": "code",
   "execution_count": 126,
   "id": "0c2bb6e5",
   "metadata": {},
   "outputs": [],
   "source": [
    "def addtostage(path):\n",
    "    \"\"\"path -   Add Path of file to Move on staging area\"\"\"\n",
    "    x=subprocess.Popen(['git','add',path], stdout=subprocess.PIPE, stderr=subprocess.PIPE)\n",
    "    stdout, stderr = x.communicate()\n",
    "    print(stdout.decode('utf-8'), stderr.decode('utf-8'))"
   ]
  },
  {
   "cell_type": "code",
   "execution_count": 139,
   "id": "d539ba44",
   "metadata": {},
   "outputs": [
    {
     "name": "stdout",
     "output_type": "stream",
     "text": [
      " \n"
     ]
    },
    {
     "ename": "AttributeError",
     "evalue": "'NoneType' object has no attribute 'decode'",
     "output_type": "error",
     "traceback": [
      "\u001b[1;31m---------------------------------------------------------------------------\u001b[0m",
      "\u001b[1;31mAttributeError\u001b[0m                            Traceback (most recent call last)",
      "Input \u001b[1;32mIn [139]\u001b[0m, in \u001b[0;36m<module>\u001b[1;34m\u001b[0m\n\u001b[0;32m      4\u001b[0m     stdout, stderr \u001b[38;5;241m=\u001b[39m x\u001b[38;5;241m.\u001b[39mcommunicate()\n\u001b[0;32m      5\u001b[0m     \u001b[38;5;28mprint\u001b[39m(stdout\u001b[38;5;241m.\u001b[39mdecode(\u001b[38;5;124m'\u001b[39m\u001b[38;5;124mutf-8\u001b[39m\u001b[38;5;124m'\u001b[39m), stderr\u001b[38;5;241m.\u001b[39mdecode(\u001b[38;5;124m'\u001b[39m\u001b[38;5;124mutf-8\u001b[39m\u001b[38;5;124m'\u001b[39m))\n\u001b[1;32m----> 6\u001b[0m \u001b[43mrmstage\u001b[49m\u001b[43m(\u001b[49m\u001b[38;5;124;43m'\u001b[39;49m\u001b[38;5;124;43m.\u001b[39;49m\u001b[38;5;124;43m'\u001b[39;49m\u001b[43m)\u001b[49m\n",
      "Input \u001b[1;32mIn [138]\u001b[0m, in \u001b[0;36mrmstage\u001b[1;34m(path)\u001b[0m\n\u001b[0;32m      1\u001b[0m \u001b[38;5;28;01mdef\u001b[39;00m \u001b[38;5;21mrmstage\u001b[39m(path):\n\u001b[0;32m      2\u001b[0m     \u001b[38;5;124;03m\"\"\"path -   Add Path of file to remove from staging area\"\"\"\u001b[39;00m\n\u001b[1;32m----> 3\u001b[0m     \u001b[43mpri\u001b[49m\u001b[43m(\u001b[49m\u001b[43msubprocess\u001b[49m\u001b[38;5;241;43m.\u001b[39;49m\u001b[43mPopen\u001b[49m\u001b[43m(\u001b[49m\u001b[43m[\u001b[49m\u001b[38;5;124;43m'\u001b[39;49m\u001b[38;5;124;43mgit\u001b[39;49m\u001b[38;5;124;43m'\u001b[39;49m\u001b[43m,\u001b[49m\u001b[38;5;124;43m'\u001b[39;49m\u001b[38;5;124;43mrm\u001b[39;49m\u001b[38;5;124;43m'\u001b[39;49m\u001b[43m,\u001b[49m\u001b[38;5;124;43m'\u001b[39;49m\u001b[38;5;124;43m-f\u001b[39;49m\u001b[38;5;124;43m'\u001b[39;49m\u001b[43m,\u001b[49m\u001b[43mpath\u001b[49m\u001b[43m]\u001b[49m\u001b[43m)\u001b[49m\u001b[43m)\u001b[49m\n\u001b[0;32m      4\u001b[0m     \u001b[38;5;28mprint\u001b[39m(path,\u001b[38;5;124m\"\u001b[39m\u001b[38;5;124m: Removed Successfuly\u001b[39m\u001b[38;5;124m\"\u001b[39m)\n",
      "Input \u001b[1;32mIn [139]\u001b[0m, in \u001b[0;36mpri\u001b[1;34m(process)\u001b[0m\n\u001b[0;32m      3\u001b[0m x\u001b[38;5;241m=\u001b[39mprocess\n\u001b[0;32m      4\u001b[0m stdout, stderr \u001b[38;5;241m=\u001b[39m x\u001b[38;5;241m.\u001b[39mcommunicate()\n\u001b[1;32m----> 5\u001b[0m \u001b[38;5;28mprint\u001b[39m(\u001b[43mstdout\u001b[49m\u001b[38;5;241;43m.\u001b[39;49m\u001b[43mdecode\u001b[49m(\u001b[38;5;124m'\u001b[39m\u001b[38;5;124mutf-8\u001b[39m\u001b[38;5;124m'\u001b[39m), stderr\u001b[38;5;241m.\u001b[39mdecode(\u001b[38;5;124m'\u001b[39m\u001b[38;5;124mutf-8\u001b[39m\u001b[38;5;124m'\u001b[39m))\n",
      "\u001b[1;31mAttributeError\u001b[0m: 'NoneType' object has no attribute 'decode'"
     ]
    }
   ],
   "source": [
    "addtostage('.')\n",
    "def pri(process):\n",
    "    x=process\n",
    "    stdout, stderr = x.communicate()\n",
    "    print(stdout.decode('utf-8'), stderr.decode('utf-8'))\n",
    "rmstage('.')"
   ]
  },
  {
   "cell_type": "markdown",
   "id": "26ea9ac4",
   "metadata": {},
   "source": [
    "## Git rm"
   ]
  },
  {
   "cell_type": "code",
   "execution_count": 138,
   "id": "ac40a015",
   "metadata": {},
   "outputs": [],
   "source": [
    "def rmstage(path):\n",
    "    \"\"\"path -   Add Path of file to remove from staging area\"\"\"\n",
    "    pri(subprocess.Popen(['git','rm','-f',path]))\n",
    "    print(path,\": Removed Successfuly\")"
   ]
  },
  {
   "cell_type": "markdown",
   "id": "5131d4f0",
   "metadata": {},
   "source": [
    "## Git Commit"
   ]
  },
  {
   "cell_type": "code",
   "execution_count": 44,
   "id": "9b5e9f33",
   "metadata": {},
   "outputs": [],
   "source": [
    "def commit(message):\n",
    "    \"\"\"message -   Enter Commit Message\"\"\"\n",
    "    subprocess.call(['git','commit','-m',message])\n",
    "commit(\"added .py file\")"
   ]
  },
  {
   "cell_type": "markdown",
   "id": "a1c0ef4f",
   "metadata": {},
   "source": [
    "## Git INIT"
   ]
  },
  {
   "cell_type": "code",
   "execution_count": 45,
   "id": "37fcacd5",
   "metadata": {},
   "outputs": [],
   "source": [
    "def gitinit(path=\"\"):\n",
    "    \"\"\"path -   Enter Path to initialize empty repozitory\"\"\"\n",
    "    if path==\"\":\n",
    "        subprocess.call(['git','init'])\n",
    "    else:\n",
    "        subprocess.call(['git','init',path])"
   ]
  },
  {
   "cell_type": "markdown",
   "id": "27bb89ce",
   "metadata": {},
   "source": [
    "## Git log"
   ]
  },
  {
   "cell_type": "code",
   "execution_count": 47,
   "id": "7b35a2c7",
   "metadata": {},
   "outputs": [],
   "source": [
    "import os\n",
    "def log(path=\"\"):\n",
    "    \"\"\"path -   Enter Path to see logs of repozitory\"\"\"\n",
    "    os. chdir(path)\n",
    "    print(subprocess.check_output(['git' ,'log'],shell=True).decode('utf-8'))"
   ]
  },
  {
   "cell_type": "code",
   "execution_count": 48,
   "id": "febf6356",
   "metadata": {},
   "outputs": [
    {
     "name": "stdout",
     "output_type": "stream",
     "text": [
      "commit 63bc6bed5ebcaa4ce252c8e2368d220a44aadd3b\n",
      "Author: adarsh62656 <adarsh62656@gmail.com>\n",
      "Date:   Tue Feb 22 15:29:49 2022 +0530\n",
      "\n",
      "    added .py file\n",
      "\n",
      "commit 000768c34f997fdb6cd38a0cb8df14cb0072b0c1\n",
      "Author: adarsh62656 <adarsh62656@gmail.com>\n",
      "Date:   Tue Feb 22 13:48:26 2022 +0530\n",
      "\n",
      "    new commit\n",
      "\n",
      "commit 932371a62b9db0ee51d897bb2b40bfd4072628d1\n",
      "Author: adarsh62656 <adarsh62656@gmail.com>\n",
      "Date:   Tue Feb 22 13:33:00 2022 +0530\n",
      "\n",
      "    1st commit\n",
      "\n",
      "commit e47402d6ad8564821d278c66198f86aab5495a3a\n",
      "Author: adarsh62656 <adarsh62656@gmail.com>\n",
      "Date:   Mon Feb 21 11:52:23 2022 +0530\n",
      "\n",
      "    1st Commit\n",
      "\n"
     ]
    }
   ],
   "source": [
    "log('.')"
   ]
  },
  {
   "cell_type": "markdown",
   "id": "832c4f2e",
   "metadata": {},
   "source": [
    "## GIT ORIGIN"
   ]
  },
  {
   "cell_type": "code",
   "execution_count": 59,
   "id": "bd905027",
   "metadata": {},
   "outputs": [],
   "source": [
    "def add_origin(origin,path):\n",
    "    \"\"\"origin -  add the remote point name \"\"\"\n",
    "    \"\"\"url    -  add url to connect with remote repositary\"\"\"\n",
    "    subprocess.call(['git','remote','add',origin,path])"
   ]
  },
  {
   "cell_type": "markdown",
   "id": "a88f955a",
   "metadata": {},
   "source": [
    "## GIT Push"
   ]
  },
  {
   "cell_type": "code",
   "execution_count": 60,
   "id": "f97e9aab",
   "metadata": {},
   "outputs": [],
   "source": [
    "def git_push(origin,branch):\n",
    "    \"\"\"origin -  mantion the remote point name to push\"\"\"\n",
    "    \"\"\"branch -  branch name from where to push\"\"\"\n",
    "    subprocess.call(['git','push',origin,branch])"
   ]
  },
  {
   "cell_type": "code",
   "execution_count": 61,
   "id": "5b0e25bd",
   "metadata": {},
   "outputs": [],
   "source": [
    "def status(path=\"\"):\n",
    "    \"\"\"path -   Enter Path to see logs of repozitory\"\"\"\n",
    "    os. chdir(path)\n",
    "    print(subprocess.check_output(['git' ,'status'],shell=True).decode('utf-8'))"
   ]
  },
  {
   "cell_type": "code",
   "execution_count": 58,
   "id": "fdbf1165",
   "metadata": {},
   "outputs": [
    {
     "name": "stdout",
     "output_type": "stream",
     "text": [
      "Help on module git:\n",
      "\n",
      "NAME\n",
      "    git - # coding: utf-8\n",
      "\n",
      "FUNCTIONS\n",
      "    addtostage(path)\n",
      "        path -   Add Path of file to Move on staging area\n",
      "    \n",
      "    clone(path)\n",
      "    \n",
      "    commit(message)\n",
      "        message -   Enter Commit Message\n",
      "    \n",
      "    gitinit(path='')\n",
      "        path -   Enter Path to initialize empty repozitory\n",
      "    \n",
      "    log(path='')\n",
      "        path -   Enter Path to see logs of repozitory\n",
      "    \n",
      "    rmstage(path)\n",
      "        path -   Add Path of file to remove from staging area\n",
      "\n",
      "FILE\n",
      "    c:\\users\\vc\\desktop\\1\\git.py\n",
      "\n",
      "\n"
     ]
    }
   ],
   "source": []
  },
  {
   "cell_type": "code",
   "execution_count": null,
   "id": "6cae739a",
   "metadata": {},
   "outputs": [],
   "source": []
  },
  {
   "cell_type": "code",
   "execution_count": null,
   "id": "c87aa37c",
   "metadata": {},
   "outputs": [],
   "source": []
  }
 ],
 "metadata": {
  "kernelspec": {
   "display_name": "Python 3 (ipykernel)",
   "language": "python",
   "name": "python3"
  },
  "language_info": {
   "codemirror_mode": {
    "name": "ipython",
    "version": 3
   },
   "file_extension": ".py",
   "mimetype": "text/x-python",
   "name": "python",
   "nbconvert_exporter": "python",
   "pygments_lexer": "ipython3",
   "version": "3.10.2"
  }
 },
 "nbformat": 4,
 "nbformat_minor": 5
}
