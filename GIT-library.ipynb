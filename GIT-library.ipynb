{
 "cells": [
  {
   "cell_type": "code",
   "execution_count": 1,
   "id": "cb6b83b4",
   "metadata": {},
   "outputs": [],
   "source": [
    "import subprocess"
   ]
  },
  {
   "cell_type": "code",
   "execution_count": 2,
   "id": "aa2503b2",
   "metadata": {},
   "outputs": [
    {
     "name": "stdout",
     "output_type": "stream",
     "text": [
      "C:\\Users\\VC\\Desktop\\1\r\n",
      "\n"
     ]
    }
   ],
   "source": [
    "print(subprocess.check_output(['echo' ,'%cd%'],shell=True).decode('utf-8'))"
   ]
  },
  {
   "cell_type": "markdown",
   "id": "3b18cb1a",
   "metadata": {},
   "source": [
    "## Git Clone"
   ]
  },
  {
   "cell_type": "code",
   "execution_count": 4,
   "id": "a065c5af",
   "metadata": {},
   "outputs": [],
   "source": [
    "def clone(path):\n",
    "    subprocess.call(['git','clone',path])"
   ]
  },
  {
   "cell_type": "code",
   "execution_count": 28,
   "id": "8b644d33",
   "metadata": {},
   "outputs": [],
   "source": [
    "clone(\"https://github.com/adarsh62656/PHPapp.git\")"
   ]
  },
  {
   "cell_type": "markdown",
   "id": "f1a7bc69",
   "metadata": {},
   "source": [
    "## Git Add"
   ]
  },
  {
   "cell_type": "code",
   "execution_count": 29,
   "id": "0c2bb6e5",
   "metadata": {},
   "outputs": [],
   "source": [
    "def addtostage(path):\n",
    "    \"\"\"path -   Add Path of file to Move on staging area\"\"\"\n",
    "    subprocess.call(['git','add',path])"
   ]
  },
  {
   "cell_type": "markdown",
   "id": "26ea9ac4",
   "metadata": {},
   "source": [
    "## Git rm"
   ]
  },
  {
   "cell_type": "code",
   "execution_count": 36,
   "id": "ac40a015",
   "metadata": {},
   "outputs": [],
   "source": [
    "def rmstage(path):\n",
    "    \"\"\"path -   Add Path of file to remove from staging area\"\"\"\n",
    "    subprocess.call(['git','rm',path])"
   ]
  },
  {
   "cell_type": "markdown",
   "id": "5131d4f0",
   "metadata": {},
   "source": [
    "## Git Commit"
   ]
  },
  {
   "cell_type": "code",
   "execution_count": 30,
   "id": "9b5e9f33",
   "metadata": {},
   "outputs": [],
   "source": [
    "def commit(message):\n",
    "    \"\"\"message -   Enter Commit Message\"\"\"\n",
    "    subprocess.call(['git','commit','-m',message])"
   ]
  },
  {
   "cell_type": "markdown",
   "id": "a1c0ef4f",
   "metadata": {},
   "source": [
    "## Git INIT"
   ]
  },
  {
   "cell_type": "code",
   "execution_count": 51,
   "id": "37fcacd5",
   "metadata": {},
   "outputs": [],
   "source": [
    "def gitinit(path=\"\"):\n",
    "    \"\"\"path -   Enter Path to initialize empty repozitory\"\"\"\n",
    "    if path==\"\":\n",
    "        subprocess.call(['git','init'])\n",
    "    else:\n",
    "        subprocess.call(['git','init',path])"
   ]
  },
  {
   "cell_type": "markdown",
   "id": "27bb89ce",
   "metadata": {},
   "source": [
    "## Git log"
   ]
  },
  {
   "cell_type": "code",
   "execution_count": 52,
   "id": "7b35a2c7",
   "metadata": {},
   "outputs": [],
   "source": [
    "import os\n",
    "def log(path=\"\"):\n",
    "    \"\"\"path -   Enter Path to see logs of repozitory\"\"\"\n",
    "    os. chdir(path)\n",
    "    print(subprocess.check_output(['git' ,'log'],shell=True).decode('utf-8'))"
   ]
  },
  {
   "cell_type": "markdown",
   "id": "743b9b07",
   "metadata": {},
   "source": [
    "## GIT ORIGIN"
   ]
  },
  {
   "cell_type": "code",
   "execution_count": null,
   "id": "bd905027",
   "metadata": {},
   "outputs": [],
   "source": [
    "def add_origin(origin,path):\n",
    "    \"\"\"origin -  add the remote point name \"\"\"\n",
    "    \"\"\"url    -  add url to connect with remote repositary\"\"\"\n",
    "    subprocess.call(['git','remote','add',origin,path])"
   ]
  },
  {
   "cell_type": "markdown",
   "id": "57cda750",
   "metadata": {},
   "source": [
    "## GIT Push"
   ]
  },
  {
   "cell_type": "code",
   "execution_count": null,
   "id": "f97e9aab",
   "metadata": {},
   "outputs": [],
   "source": [
    "def git_push()"
   ]
  }
 ],
 "metadata": {
  "kernelspec": {
   "display_name": "Python 3 (ipykernel)",
   "language": "python",
   "name": "python3"
  },
  "language_info": {
   "codemirror_mode": {
    "name": "ipython",
    "version": 3
   },
   "file_extension": ".py",
   "mimetype": "text/x-python",
   "name": "python",
   "nbconvert_exporter": "python",
   "pygments_lexer": "ipython3",
   "version": "3.10.2"
  }
 },
 "nbformat": 4,
 "nbformat_minor": 5
}
